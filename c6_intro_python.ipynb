{
  "cells": [
    {
      "cell_type": "markdown",
      "metadata": {
        "id": "view-in-github",
        "colab_type": "text"
      },
      "source": [
        "<a href=\"https://colab.research.google.com/github/MelissaPunguil/gbi6g01_20221/blob/main/c6_intro_python.ipynb\" target=\"_parent\"><img src=\"https://colab.research.google.com/assets/colab-badge.svg\" alt=\"Open In Colab\"/></a>"
      ]
    },
    {
      "cell_type": "code",
      "execution_count": null,
      "metadata": {
        "id": "pZcRz_ZG0yAD"
      },
      "outputs": [],
      "source": [
        ""
      ]
    },
    {
      "cell_type": "markdown",
      "metadata": {
        "id": "-Ggs5Pqj00av"
      },
      "source": [
        "# BIOINFORMÁTICA \n",
        "\n",
        "# CLASE 6: INTRODUCCIÓN A PYTHON \n",
        "\n",
        "En esta clase vamos a revisar los siguintes contenidos: \n",
        "1. Historia de Python \n",
        "2. Tipos de Python \n",
        "3. Operaciones con números \n",
        "4. Operaciones con texto \n",
        "\n",
        "# 1. HISTORIA PYTHON \n",
        "\n",
        "La historia de python se puede leer en [python](https://www.python.org/doc/)"
      ]
    },
    {
      "cell_type": "markdown",
      "metadata": {
        "id": "byLYl-zP1_3-"
      },
      "source": [
        "## 2.TIPOS DE DATOS \n",
        "- Numéricos: enteros (interger,int), decimales (double), complejos (complex)\n",
        "- Lógicos: verdadero (TRUE,T), falso (FALSE,F)\n",
        "- Texto: Cadena de caracteres \"siempre entre comillas\" \n"
      ]
    },
    {
      "cell_type": "markdown",
      "metadata": {
        "id": "n1sE3OMa-l8x"
      },
      "source": [
        "## 3.OPERACIONES CON NÚMEROS \n"
      ]
    },
    {
      "cell_type": "code",
      "execution_count": null,
      "metadata": {
        "id": "SgL4JkUJ3gBZ"
      },
      "outputs": [],
      "source": [
        "gen1_r = 1.5\n",
        "gen1_h = 1.7\n",
        "dif_gen1 = gen1_r - gen1_h \n",
        "ratio_gen1 = gen1_r / gen1_h\n"
      ]
    },
    {
      "cell_type": "code",
      "execution_count": null,
      "metadata": {
        "colab": {
          "base_uri": "https://localhost:8080/"
        },
        "id": "JdtX7LsV6ZNa",
        "outputId": "2148e772-7ba8-4a02-8093-be071de26778"
      },
      "outputs": [
        {
          "name": "stdout",
          "output_type": "stream",
          "text": [
            "1.7\n",
            "1.5\n",
            "-0.19999999999999996\n",
            "0.8823529411764706\n"
          ]
        }
      ],
      "source": [
        "print(gen1_h)\n",
        "print(gen1_r)\n",
        "print(dif_gen1)\n",
        "print(ratio_gen1)\n"
      ]
    },
    {
      "cell_type": "markdown",
      "metadata": {
        "id": "U5D1BhcX-z7B"
      },
      "source": [
        "## 4. OPERACIONES CON TEXTO "
      ]
    },
    {
      "cell_type": "code",
      "execution_count": null,
      "metadata": {
        "colab": {
          "base_uri": "https://localhost:8080/",
          "height": 35
        },
        "id": "_1QJW6w--4aH",
        "outputId": "9c951713-af15-4e33-c502-64342b27ed67"
      },
      "outputs": [
        {
          "data": {
            "application/vnd.google.colaboratory.intrinsic+json": {
              "type": "string"
            },
            "text/plain": [
              "'eu sou a menina'"
            ]
          },
          "execution_count": 29,
          "metadata": {},
          "output_type": "execute_result"
        }
      ],
      "source": [
        "saludo =  \"eu sou a menina\"\n",
        "saludo"
      ]
    },
    {
      "cell_type": "code",
      "execution_count": null,
      "metadata": {
        "colab": {
          "base_uri": "https://localhost:8080/",
          "height": 35
        },
        "id": "fDznS10B_uLh",
        "outputId": "22e04261-f44c-4bc6-a19a-bad9a9d0c4cf"
      },
      "outputs": [
        {
          "data": {
            "application/vnd.google.colaboratory.intrinsic+json": {
              "type": "string"
            },
            "text/plain": [
              "'Eu sou a menina'"
            ]
          },
          "execution_count": 30,
          "metadata": {},
          "output_type": "execute_result"
        }
      ],
      "source": [
        "saludo = \"eu sou a menina\"\n",
        "saludo.capitalize()"
      ]
    },
    {
      "cell_type": "code",
      "execution_count": null,
      "metadata": {
        "colab": {
          "base_uri": "https://localhost:8080/",
          "height": 35
        },
        "id": "wPMHrCq5AItS",
        "outputId": "e5d70587-8a05-439a-abf8-ec5fe43db9c0"
      },
      "outputs": [
        {
          "data": {
            "application/vnd.google.colaboratory.intrinsic+json": {
              "type": "string"
            },
            "text/plain": [
              "'EU SOU A MENINA'"
            ]
          },
          "execution_count": 31,
          "metadata": {},
          "output_type": "execute_result"
        }
      ],
      "source": [
        "saludo = \"eu sou a menina\"\n",
        "saludo.upper()"
      ]
    },
    {
      "cell_type": "code",
      "execution_count": null,
      "metadata": {
        "colab": {
          "base_uri": "https://localhost:8080/"
        },
        "id": "cXXAG_jTOxP1",
        "outputId": "f93b5196-ac14-4897-83f9-5430e06fba19"
      },
      "outputs": [
        {
          "data": {
            "text/plain": [
              "15"
            ]
          },
          "execution_count": 32,
          "metadata": {},
          "output_type": "execute_result"
        }
      ],
      "source": [
        "len(saludo)\n"
      ]
    },
    {
      "cell_type": "code",
      "execution_count": null,
      "metadata": {
        "colab": {
          "base_uri": "https://localhost:8080/"
        },
        "id": "6_h0BpFpOX9L",
        "outputId": "e45c485e-17ce-4e60-e642-4be8732c9b18"
      },
      "outputs": [
        {
          "name": "stdout",
          "output_type": "stream",
          "text": [
            "porcentaje de a:  13.333333333333334\n"
          ]
        }
      ],
      "source": [
        "# En este bloque se revisa el uso combinado de funciones\n",
        "total = len(saludo)\n",
        "char_a = saludo.count(\"a\")\n",
        "ratio_a = 100*char_a / total \n",
        "print(\"porcentaje de a: \", ratio_a)"
      ]
    },
    {
      "cell_type": "code",
      "execution_count": null,
      "metadata": {
        "colab": {
          "base_uri": "https://localhost:8080/"
        },
        "id": "myMZZPfKPOSe",
        "outputId": "b2eef050-b065-4efb-a8c8-09cce2b68e54"
      },
      "outputs": [
        {
          "data": {
            "text/plain": [
              "13.33"
            ]
          },
          "execution_count": 35,
          "metadata": {},
          "output_type": "execute_result"
        }
      ],
      "source": [
        "round(ratio_a,2)"
      ]
    },
    {
      "cell_type": "markdown",
      "metadata": {
        "id": "WDcg0d5oPV5S"
      },
      "source": [
        "# PORCENTAJE DE GC \n"
      ]
    },
    {
      "cell_type": "markdown",
      "metadata": {
        "id": "wXOCF6hCPZDo"
      },
      "source": [
        "Calcular el porcentaje de contenido de nucleòtidos G y C en la siguiente secuencia\n"
      ]
    },
    {
      "cell_type": "code",
      "execution_count": 86,
      "metadata": {
        "id": "wmj2RhWePjLp"
      },
      "outputs": [],
      "source": [
        "p53_l1 = \"TTCCTGGNCTGTAGGTAGCGACTACAGTTAGGGGGCACCTAGCATTCAGGCCCTCATCCTCCTCCTTCCCAGCAGGGTGTCACGCTTCTCCGAAGACTGGATGACTGCCATGGAGGAGTCACAGTCGGATATCAGCCTCGAGCTCCCTCTGAGCCAGGAGACATTTTCAGGCTTATGGAAACTACTTCCTCCAGAAGATATCCTGCCATC\""
      ]
    },
    {
      "cell_type": "code",
      "execution_count": 87,
      "metadata": {
        "colab": {
          "base_uri": "https://localhost:8080/"
        },
        "id": "f8ECClacPoZR",
        "outputId": "6548e568-13f7-41bd-ab47-db00783e08d4"
      },
      "outputs": [
        {
          "output_type": "stream",
          "name": "stdout",
          "text": [
            "54.285714285714285\n"
          ]
        }
      ],
      "source": [
        "porcentaje = 100*(p53_l1.count(\"G\") + p53_l1.count(\"C\")) / len(p53_l1)\n",
        "print(porcentaje)"
      ]
    },
    {
      "cell_type": "markdown",
      "metadata": {
        "id": "JRqiqhNxQI70"
      },
      "source": [
        "# Como hacer un subconjunto(codón de inicio:TAC,codón de pare:ATT,ATC,ACT)\n",
        "\n",
        "---\n",
        "\n"
      ]
    },
    {
      "cell_type": "code",
      "execution_count": 88,
      "metadata": {
        "colab": {
          "base_uri": "https://localhost:8080/"
        },
        "id": "wyu9poGIQVXi",
        "outputId": "ee2857cb-17c2-4a79-a87f-0ff0a0d27590"
      },
      "outputs": [
        {
          "output_type": "stream",
          "name": "stdout",
          "text": [
            "TTCCTGGNCTGTAGGTAGCGACTACAGTTAGGGGGCACCTAGCATTCAGGCCCTCATCCTCCTCCTTCCCAGCAGGGTGTCACGCTTCTCCGAAGACTGGATGACTGCCATGGAGGAGTCACAGTCGGATATCAGCCTCGAGCTCCCTCTGAGCCAGGAGACATTTTCAGGCTTATGGAAACTACTTCCTCCAGAAGATATCCTGCCATC\n"
          ]
        }
      ],
      "source": [
        "print(p53_l1)"
      ]
    },
    {
      "cell_type": "code",
      "execution_count": 89,
      "metadata": {
        "id": "BD_c1a4IRAMX"
      },
      "outputs": [],
      "source": [
        "fi = p53_l1.find(\"TAC\")\n",
        "ff1 = p53_l1.find(\"ATT\")\n",
        "ff2 = p53_l1.find(\"ATC\")\n",
        "ff3 = p53_l1.find(\"ACT\")"
      ]
    },
    {
      "cell_type": "code",
      "execution_count": 90,
      "metadata": {
        "colab": {
          "base_uri": "https://localhost:8080/"
        },
        "id": "lgGQFCipRpUw",
        "outputId": "64232842-c403-4146-bf27-13da35c6860d"
      },
      "outputs": [
        {
          "output_type": "execute_result",
          "data": {
            "text/plain": [
              "43"
            ]
          },
          "metadata": {},
          "execution_count": 90
        }
      ],
      "source": [
        "ff1"
      ]
    },
    {
      "cell_type": "code",
      "execution_count": 91,
      "metadata": {
        "colab": {
          "base_uri": "https://localhost:8080/"
        },
        "id": "mEAWwbJ1SO-U",
        "outputId": "a6bccc98-d784-43ff-91a1-8e0c7415b0c2"
      },
      "outputs": [
        {
          "output_type": "execute_result",
          "data": {
            "text/plain": [
              "55"
            ]
          },
          "metadata": {},
          "execution_count": 91
        }
      ],
      "source": [
        "ff2"
      ]
    },
    {
      "cell_type": "code",
      "execution_count": 92,
      "metadata": {
        "colab": {
          "base_uri": "https://localhost:8080/"
        },
        "id": "JBqInMRmSSY7",
        "outputId": "da495f21-225b-44f5-d840-144598cab06e"
      },
      "outputs": [
        {
          "output_type": "execute_result",
          "data": {
            "text/plain": [
              "20"
            ]
          },
          "metadata": {},
          "execution_count": 92
        }
      ],
      "source": [
        "ff3"
      ]
    },
    {
      "cell_type": "markdown",
      "metadata": {
        "id": "p5MbtaIpSU-Z"
      },
      "source": [
        "# Subconjunto: defino el punto de inicio (n)y el punto final (m) -> seq[n:m]"
      ]
    },
    {
      "cell_type": "code",
      "execution_count": 93,
      "metadata": {
        "colab": {
          "base_uri": "https://localhost:8080/",
          "height": 35
        },
        "id": "JGX9aMSmTIYe",
        "outputId": "385b9a1b-883c-4b0e-ad0c-b179711b2766"
      },
      "outputs": [
        {
          "output_type": "execute_result",
          "data": {
            "text/plain": [
              "'CTG'"
            ],
            "application/vnd.google.colaboratory.intrinsic+json": {
              "type": "string"
            }
          },
          "metadata": {},
          "execution_count": 93
        }
      ],
      "source": [
        "# E1 conteo de los elementos en Python comienza en 0. La primera letra de al secuencia es T y equivale a 0 y solamente toma hasta una letra antes \n",
        "p53_l1[3:6]"
      ]
    },
    {
      "cell_type": "code",
      "execution_count": 94,
      "metadata": {
        "colab": {
          "base_uri": "https://localhost:8080/",
          "height": 35
        },
        "id": "38wybjZkUEZe",
        "outputId": "71332b2a-bfa4-46bd-f7c2-2e02e08cc022"
      },
      "outputs": [
        {
          "output_type": "execute_result",
          "data": {
            "text/plain": [
              "'TT'"
            ],
            "application/vnd.google.colaboratory.intrinsic+json": {
              "type": "string"
            }
          },
          "metadata": {},
          "execution_count": 94
        }
      ],
      "source": [
        "p53_l1[0:2]"
      ]
    },
    {
      "cell_type": "code",
      "execution_count": 95,
      "metadata": {
        "colab": {
          "base_uri": "https://localhost:8080/",
          "height": 35
        },
        "id": "Lqpv_zRHUIQa",
        "outputId": "1e13ff57-2505-4695-d22e-10260987b651"
      },
      "outputs": [
        {
          "output_type": "execute_result",
          "data": {
            "text/plain": [
              "'TACAGTTAGGGGGCACCTAGCATT'"
            ],
            "application/vnd.google.colaboratory.intrinsic+json": {
              "type": "string"
            }
          },
          "metadata": {},
          "execution_count": 95
        }
      ],
      "source": [
        "# Obtengo mi mRNA (secuencia codificante)\n",
        "# coloco +3 ya que necesito que me muestre el codón final\n",
        "mRNA_f1 = p53_l1[fi:ff1+3]\n",
        "mRNA_f1\n"
      ]
    },
    {
      "cell_type": "code",
      "execution_count": 96,
      "metadata": {
        "colab": {
          "base_uri": "https://localhost:8080/",
          "height": 53
        },
        "id": "FW50ufERRvUh",
        "outputId": "9966b04b-a6a7-4ef0-b741-b17c05632d5f"
      },
      "outputs": [
        {
          "output_type": "stream",
          "name": "stdout",
          "text": [
            "eu sou a menina\n"
          ]
        },
        {
          "output_type": "execute_result",
          "data": {
            "text/plain": [
              "'ea soa a menina'"
            ],
            "application/vnd.google.colaboratory.intrinsic+json": {
              "type": "string"
            }
          },
          "metadata": {},
          "execution_count": 96
        }
      ],
      "source": [
        "# Cadena complementaria \n",
        "print(saludo)\n",
        "saludo.replace(\"u\", \"a\")\n"
      ]
    },
    {
      "cell_type": "code",
      "execution_count": 97,
      "metadata": {
        "colab": {
          "base_uri": "https://localhost:8080/",
          "height": 53
        },
        "id": "PQn9lK6OSNxN",
        "outputId": "6a20c7cf-45bf-4051-e166-47f49f66a730"
      },
      "outputs": [
        {
          "output_type": "execute_result",
          "data": {
            "text/plain": [
              "'aaggaccNgacatccatcgctgatgtcaatcccccgtggatcgtaagtccgggagtaggaggaggaagggtcgtcccacagtgcgaagaggcttctgacctactgacggtacctcctcagtgtcagcctatagtcggagctcgagggagactcggtcctctgtaaaagtccgaatacctttgatgaaggaggtcttctataggacggtag'"
            ],
            "application/vnd.google.colaboratory.intrinsic+json": {
              "type": "string"
            }
          },
          "metadata": {},
          "execution_count": 97
        }
      ],
      "source": [
        "p53_a = p53_l1.replace(\"A\", \"t\")\n",
        "p53_t = p53_a.replace(\"T\", \"a\")\n",
        "p53_g = p53_t.replace(\"G\", \"c\")\n",
        "p53_c = p53_g.replace(\"C\", \"g\")\n",
        "p53_c"
      ]
    },
    {
      "cell_type": "code",
      "execution_count": 98,
      "metadata": {
        "colab": {
          "base_uri": "https://localhost:8080/"
        },
        "id": "fcdprIUvWWTm",
        "outputId": "8f6600fd-3356-456d-d0bf-c91bc7c130a0"
      },
      "outputs": [
        {
          "output_type": "stream",
          "name": "stdout",
          "text": [
            "TTCCTGGNCTGTAGGTAGCGACTACAGTTAGGGGGCACCTAGCATTCAGGCCCTCATCCTCCTCCTTCCCAGCAGGGTGTCACGCTTCTCCGAAGACTGGATGACTGCCATGGAGGAGTCACAGTCGGATATCAGCCTCGAGCTCCCTCTGAGCCAGGAGACATTTTCAGGCTTATGGAAACTACTTCCTCCAGAAGATATCCTGCCATC\n",
            "AAGGACCNGACATCCATCGCTGATGTCAATCCCCCGTGGATCGTAAGTCCGGGAGTAGGAGGAGGAAGGGTCGTCCCACAGTGCGAAGAGGCTTCTGACCTACTGACGGTACCTCCTCAGTGTCAGCCTATAGTCGGAGCTCGAGGGAGACTCGGTCCTCTGTAAAAGTCCGAATACCTTTGATGAAGGAGGTCTTCTATAGGACGGTAG\n"
          ]
        }
      ],
      "source": [
        "p53_l1c = p53_c.upper()\n",
        "print(p53_l1)\n",
        "print(p53_l1c)"
      ]
    },
    {
      "cell_type": "markdown",
      "metadata": {
        "id": "cuaxgyp8WqqF"
      },
      "source": [
        "Para que sea la cadena complementaria debo darle la vuelta a p53_l1c"
      ]
    },
    {
      "cell_type": "code",
      "execution_count": 99,
      "metadata": {
        "colab": {
          "base_uri": "https://localhost:8080/",
          "height": 53
        },
        "id": "bZlcOA27Wx4T",
        "outputId": "6dfd36be-b8c7-4395-b2f9-31e498323e8a"
      },
      "outputs": [
        {
          "output_type": "execute_result",
          "data": {
            "text/plain": [
              "'GATGGCAGGATATCTTCTGGAGGAAGTAGTTTCCATAAGCCTGAAAATGTCTCCTGGCTCAGAGGGAGCTCGAGGCTGATATCCGACTGTGACTCCTCCATGGCAGTCATCCAGTCTTCGGAGAAGCGTGACACCCTGCTGGGAAGGAGGAGGATGAGGGCCTGAATGCTAGGTGCCCCCTAACTGTAGTCGCTACCTACAGNCCAGGAA'"
            ],
            "application/vnd.google.colaboratory.intrinsic+json": {
              "type": "string"
            }
          },
          "metadata": {},
          "execution_count": 99
        }
      ],
      "source": [
        "p53_l1c_r = p53_l1c[::-1]\n",
        "p53_l1c_r"
      ]
    },
    {
      "cell_type": "code",
      "source": [
        "print(p53_l1) # secuencia base original\n",
        "print(p53_l1c) #secuencia complementaria\n",
        "print(p53_l1c_r) # secuencia complementaria reversa (transposición)\n"
      ],
      "metadata": {
        "colab": {
          "base_uri": "https://localhost:8080/"
        },
        "id": "XcWRWi59f0pJ",
        "outputId": "135b3479-9b4b-4412-842f-ecd99aa4c4b5"
      },
      "execution_count": 100,
      "outputs": [
        {
          "output_type": "stream",
          "name": "stdout",
          "text": [
            "TTCCTGGNCTGTAGGTAGCGACTACAGTTAGGGGGCACCTAGCATTCAGGCCCTCATCCTCCTCCTTCCCAGCAGGGTGTCACGCTTCTCCGAAGACTGGATGACTGCCATGGAGGAGTCACAGTCGGATATCAGCCTCGAGCTCCCTCTGAGCCAGGAGACATTTTCAGGCTTATGGAAACTACTTCCTCCAGAAGATATCCTGCCATC\n",
            "AAGGACCNGACATCCATCGCTGATGTCAATCCCCCGTGGATCGTAAGTCCGGGAGTAGGAGGAGGAAGGGTCGTCCCACAGTGCGAAGAGGCTTCTGACCTACTGACGGTACCTCCTCAGTGTCAGCCTATAGTCGGAGCTCGAGGGAGACTCGGTCCTCTGTAAAAGTCCGAATACCTTTGATGAAGGAGGTCTTCTATAGGACGGTAG\n",
            "GATGGCAGGATATCTTCTGGAGGAAGTAGTTTCCATAAGCCTGAAAATGTCTCCTGGCTCAGAGGGAGCTCGAGGCTGATATCCGACTGTGACTCCTCCATGGCAGTCATCCAGTCTTCGGAGAAGCGTGACACCCTGCTGGGAAGGAGGAGGATGAGGGCCTGAATGCTAGGTGCCCCCTAACTGTAGTCGCTACCTACAGNCCAGGAA\n"
          ]
        }
      ]
    },
    {
      "cell_type": "markdown",
      "source": [
        "Encuentro el mRNA de la cadena complementaria reverse"
      ],
      "metadata": {
        "id": "AJkPgz4Ag_Ox"
      }
    },
    {
      "cell_type": "code",
      "source": [
        "p53_l1c_r"
      ],
      "metadata": {
        "colab": {
          "base_uri": "https://localhost:8080/",
          "height": 53
        },
        "id": "pnaMfWlYhEOl",
        "outputId": "69588595-f117-4db3-d7c1-07dad327793f"
      },
      "execution_count": 101,
      "outputs": [
        {
          "output_type": "execute_result",
          "data": {
            "text/plain": [
              "'GATGGCAGGATATCTTCTGGAGGAAGTAGTTTCCATAAGCCTGAAAATGTCTCCTGGCTCAGAGGGAGCTCGAGGCTGATATCCGACTGTGACTCCTCCATGGCAGTCATCCAGTCTTCGGAGAAGCGTGACACCCTGCTGGGAAGGAGGAGGATGAGGGCCTGAATGCTAGGTGCCCCCTAACTGTAGTCGCTACCTACAGNCCAGGAA'"
            ],
            "application/vnd.google.colaboratory.intrinsic+json": {
              "type": "string"
            }
          },
          "metadata": {},
          "execution_count": 101
        }
      ]
    },
    {
      "cell_type": "code",
      "source": [
        "ficr = p53_l1c_r.find(\"TAC\")\n",
        "ff1cr = p53_l1c_r.find(\"ATT\")\n",
        "ff2cr = p53_l1c_r.find(\"ATC\")\n",
        "ff3cr = p53_l1c_r.find(\"ACT\")\n",
        "print(ficr)\n",
        "print(ff1cr)\n",
        "print(ff2cr)\n",
        "print(ff3cr)\n",
        "mRNA_f1cr = p53_l1[ficr:ff3cr+3]\n",
        "mRNA_f1cr"
      ],
      "metadata": {
        "colab": {
          "base_uri": "https://localhost:8080/",
          "height": 105
        },
        "id": "5rs1hsWhhNZB",
        "outputId": "e7306da9-1ad9-49e8-f118-963449e3f20f"
      },
      "execution_count": 102,
      "outputs": [
        {
          "output_type": "stream",
          "name": "stdout",
          "text": [
            "193\n",
            "-1\n",
            "11\n",
            "85\n"
          ]
        },
        {
          "output_type": "execute_result",
          "data": {
            "text/plain": [
              "''"
            ],
            "application/vnd.google.colaboratory.intrinsic+json": {
              "type": "string"
            }
          },
          "metadata": {},
          "execution_count": 102
        }
      ]
    },
    {
      "cell_type": "code",
      "source": [
        ""
      ],
      "metadata": {
        "id": "BRwWNc4bii-T"
      },
      "execution_count": null,
      "outputs": []
    }
  ],
  "metadata": {
    "colab": {
      "collapsed_sections": [],
      "name": "c6_intro_python.ipynb",
      "provenance": [],
      "authorship_tag": "ABX9TyNtOa9ooQsllJaw7SbPHO3G",
      "include_colab_link": true
    },
    "kernelspec": {
      "display_name": "Python 3",
      "name": "python3"
    },
    "language_info": {
      "name": "python"
    }
  },
  "nbformat": 4,
  "nbformat_minor": 0
}